{
 "cells": [
  {
   "cell_type": "code",
   "execution_count": 1,
   "metadata": {},
   "outputs": [],
   "source": [
    "import numpy as np\n",
    "import cvxpy as cp\n",
    "import pandas as pd\n",
    "import matplotlib.pyplot as plt"
   ]
  },
  {
   "cell_type": "code",
   "execution_count": 2,
   "metadata": {},
   "outputs": [],
   "source": [
    "def gen_synthetic_multinomial(n0,n1,q,r,j):\n",
    "    # n0,n1 is the number of samples from class 0, 1 resp.\n",
    "    # q,r is are the theta^+/-\n",
    "    \n",
    "    X_train = []\n",
    "    y_train = []\n",
    "    \n",
    "    X_train.extend(np.random.multinomial(j, q, size=n0))\n",
    "    y_train.extend([1]*n0)\n",
    "    \n",
    "    X_train.extend(np.random.multinomial(j, r, size=n1))\n",
    "    y_train.extend([-1]*n1)\n",
    "    \n",
    "    X_train = np.array(X_train)\n",
    "    y_train = np.array(y_train)\n",
    "    \n",
    "    return X_train, y_train\n",
    "\n",
    "def gen_synthetic_normal(n,d,sigma):\n",
    "    \n",
    "    X = np.random.normal(0, 1, n*d).reshape(n, d)\n",
    "    w = np.random.normal(0, 1, d)\n",
    "    y = X@w + np.random.normal(0, sigma, n)\n",
    "    \n",
    "    return X, np.array([y]).T, np.array([w]).T"
   ]
  },
  {
   "cell_type": "markdown",
   "metadata": {},
   "source": [
    "## Create dataset"
   ]
  },
  {
   "cell_type": "code",
   "execution_count": 10,
   "metadata": {},
   "outputs": [],
   "source": [
    "n = 100 # number of data points\n",
    "m = 10 # number of features\n",
    "sigma = 0.1\n",
    "lamb = 10\n",
    "rho = 1\n",
    "X, y, w = gen_synthetic_normal(n,m,sigma)"
   ]
  },
  {
   "cell_type": "code",
   "execution_count": 11,
   "metadata": {},
   "outputs": [
    {
     "name": "stdout",
     "output_type": "stream",
     "text": [
      "Shape of X:  (100, 10)\n",
      "Shape of y:  (100, 1)\n",
      "Shape of w:  (10, 1)\n"
     ]
    }
   ],
   "source": [
    "print(\"Shape of X: \", X.shape)\n",
    "print(\"Shape of y: \", y.shape)\n",
    "print(\"Shape of w: \", w.shape)"
   ]
  },
  {
   "cell_type": "markdown",
   "metadata": {},
   "source": [
    "## Nominal Problem"
   ]
  },
  {
   "cell_type": "code",
   "execution_count": 12,
   "metadata": {},
   "outputs": [],
   "source": [
    "def solve_nominal(X, y, lamb=10):\n",
    "    w = cp.Variable((m,1))\n",
    "    nominal_obj = cp.Minimize(cp.square(cp.norm(X@w - y, 2)) + lamb*cp.square(cp.norm(w,2)))\n",
    "    constraints = []\n",
    "    prob = cp.Problem(nominal_obj, constraints)\n",
    "    prob.solve()\n",
    "    return prob.value, w.value"
   ]
  },
  {
   "cell_type": "code",
   "execution_count": 13,
   "metadata": {},
   "outputs": [],
   "source": [
    "loss, w_hat = solve_nominal(X,y,lamb=10)"
   ]
  },
  {
   "cell_type": "code",
   "execution_count": 14,
   "metadata": {},
   "outputs": [
    {
     "name": "stdout",
     "output_type": "stream",
     "text": [
      "Loss:  69.2878808448585\n"
     ]
    }
   ],
   "source": [
    "print(\"Loss: \", loss)"
   ]
  },
  {
   "cell_type": "markdown",
   "metadata": {},
   "source": [
    "## Robust Problem"
   ]
  },
  {
   "cell_type": "code",
   "execution_count": 15,
   "metadata": {},
   "outputs": [],
   "source": [
    "def solve_robust(X,y, rho, lambda_):\n",
    "    # data, labels = X,y\n",
    "    n,d = X.shape\n",
    "    w_rob = cp.Variable((d,1))\n",
    "\n",
    "    abs_resids = cp.abs(X@w_rob - y)\n",
    "    robper = rho*cp.norm(w_rob, p=2)*np.ones((n,1))\n",
    "    ridge_pen = lambda_*cp.norm(w_rob, p=2)**2\n",
    "    obj = cp.norm(abs_resids + robper, p=2)**2 + ridge_pen\n",
    "\n",
    "    prob = cp.Problem(cp.Minimize(obj))\n",
    "    prob.solve()\n",
    "    return prob.value, w_rob.value"
   ]
  },
  {
   "cell_type": "code",
   "execution_count": 16,
   "metadata": {},
   "outputs": [],
   "source": [
    "loss, w_hat = solve_robust(X,y,rho=rho,lambda_=lamb)"
   ]
  },
  {
   "cell_type": "code",
   "execution_count": 17,
   "metadata": {},
   "outputs": [
    {
     "name": "stdout",
     "output_type": "stream",
     "text": [
      "Loss:  700.7135848079981\n"
     ]
    }
   ],
   "source": [
    "print(\"Loss: \", loss)"
   ]
  },
  {
   "cell_type": "markdown",
   "metadata": {},
   "source": [
    "## Poisoned Problem"
   ]
  },
  {
   "cell_type": "code",
   "execution_count": 18,
   "metadata": {},
   "outputs": [],
   "source": [
    "def solve_poisoned(X_nominal, y, lamb=10, rho=10, mu=10):\n",
    "    X = cp.Variable((n,m))\n",
    "    M = cp.Variable((m+1,m+1), PSD=True)\n",
    "    N = cp.Variable((m+n,m+n), PSD=True)\n",
    "    t = cp.Variable(1)\n",
    "    U = cp.Variable((m,m), PSD=True)\n",
    "    poisoned_obj = cp.Minimize(t - cp.square(cp.norm(y)) + mu*cp.trace(U))\n",
    "    constraints = [\n",
    "        M[0:m,0:m] == U - lamb*np.eye(m),\n",
    "        M[m,m] == t,\n",
    "        M[m:m+1,0:m] == y.T@X,\n",
    "        M[0:m,m:m+1] == X.T@y,\n",
    "        N[0:m,0:m] == U,\n",
    "        N[m:,m:] == np.eye(n),\n",
    "        N[m:,0:m] == X,\n",
    "        N[0:m,m:] == X.T,\n",
    "        \n",
    "    ]\n",
    "    for i in range(n):\n",
    "        constraints.append(cp.norm(X[i]-X_nominal[i],2) <= rho)\n",
    "    prob = cp.Problem(poisoned_obj, constraints)\n",
    "    prob.solve()\n",
    "    return -1*prob.value, X.value, U.value"
   ]
  },
  {
   "cell_type": "code",
   "execution_count": null,
   "metadata": {},
   "outputs": [],
   "source": []
  },
  {
   "cell_type": "code",
   "execution_count": null,
   "metadata": {},
   "outputs": [],
   "source": []
  },
  {
   "cell_type": "code",
   "execution_count": 19,
   "metadata": {},
   "outputs": [
    {
     "name": "stdout",
     "output_type": "stream",
     "text": [
      "Shape of X:  (100, 10)\n",
      "Shape of y:  (100, 1)\n",
      "Shape of w:  (10, 1)\n"
     ]
    }
   ],
   "source": [
    "print(\"Shape of X: \", X.shape)\n",
    "print(\"Shape of y: \", y.shape)\n",
    "print(\"Shape of w: \", w.shape)"
   ]
  },
  {
   "cell_type": "code",
   "execution_count": 20,
   "metadata": {},
   "outputs": [
    {
     "name": "stdout",
     "output_type": "stream",
     "text": [
      "(1, 10)\n",
      "(1, 10)\n"
     ]
    }
   ],
   "source": [
    "print((y.T@X).shape)\n",
    "print((np.ones((m+1,m+1))[m:m+1,0:m]).shape)"
   ]
  },
  {
   "cell_type": "code",
   "execution_count": 31,
   "metadata": {},
   "outputs": [],
   "source": [
    "loss, X_hat, U_hat = solve_poisoned(X,y,lamb=lamb,rho=rho,mu=1)"
   ]
  },
  {
   "cell_type": "code",
   "execution_count": 32,
   "metadata": {},
   "outputs": [
    {
     "name": "stdout",
     "output_type": "stream",
     "text": [
      "4.3902298928443315\n"
     ]
    }
   ],
   "source": [
    "print(loss)"
   ]
  },
  {
   "cell_type": "code",
   "execution_count": 33,
   "metadata": {},
   "outputs": [],
   "source": [
    "l = lambda X: np.linalg.norm(X@np.linalg.pinv(X)@y-y)**2"
   ]
  },
  {
   "cell_type": "code",
   "execution_count": 34,
   "metadata": {},
   "outputs": [
    {
     "data": {
      "text/html": [
       "<div>\n",
       "<style scoped>\n",
       "    .dataframe tbody tr th:only-of-type {\n",
       "        vertical-align: middle;\n",
       "    }\n",
       "\n",
       "    .dataframe tbody tr th {\n",
       "        vertical-align: top;\n",
       "    }\n",
       "\n",
       "    .dataframe thead th {\n",
       "        text-align: right;\n",
       "    }\n",
       "</style>\n",
       "<table border=\"1\" class=\"dataframe\">\n",
       "  <thead>\n",
       "    <tr style=\"text-align: right;\">\n",
       "      <th></th>\n",
       "      <th>0</th>\n",
       "      <th>1</th>\n",
       "      <th>2</th>\n",
       "      <th>3</th>\n",
       "      <th>4</th>\n",
       "      <th>5</th>\n",
       "      <th>6</th>\n",
       "      <th>7</th>\n",
       "      <th>8</th>\n",
       "      <th>9</th>\n",
       "    </tr>\n",
       "  </thead>\n",
       "  <tbody>\n",
       "    <tr>\n",
       "      <th>0</th>\n",
       "      <td>0.251309</td>\n",
       "      <td>-0.851148</td>\n",
       "      <td>0.799268</td>\n",
       "      <td>-0.087367</td>\n",
       "      <td>-0.486561</td>\n",
       "      <td>-0.654214</td>\n",
       "      <td>-0.201775</td>\n",
       "      <td>-0.855384</td>\n",
       "      <td>0.362957</td>\n",
       "      <td>-0.684572</td>\n",
       "    </tr>\n",
       "    <tr>\n",
       "      <th>1</th>\n",
       "      <td>-1.504286</td>\n",
       "      <td>-0.178425</td>\n",
       "      <td>0.467271</td>\n",
       "      <td>-0.171103</td>\n",
       "      <td>-0.602601</td>\n",
       "      <td>0.065808</td>\n",
       "      <td>-0.095025</td>\n",
       "      <td>0.071877</td>\n",
       "      <td>-1.331579</td>\n",
       "      <td>0.853530</td>\n",
       "    </tr>\n",
       "    <tr>\n",
       "      <th>2</th>\n",
       "      <td>-1.374239</td>\n",
       "      <td>-0.151907</td>\n",
       "      <td>0.397709</td>\n",
       "      <td>0.942305</td>\n",
       "      <td>-0.278633</td>\n",
       "      <td>-0.501040</td>\n",
       "      <td>-0.524141</td>\n",
       "      <td>0.206357</td>\n",
       "      <td>-0.927245</td>\n",
       "      <td>-0.472649</td>\n",
       "    </tr>\n",
       "    <tr>\n",
       "      <th>3</th>\n",
       "      <td>-0.472159</td>\n",
       "      <td>-0.144830</td>\n",
       "      <td>1.026161</td>\n",
       "      <td>0.899073</td>\n",
       "      <td>-0.784845</td>\n",
       "      <td>0.343206</td>\n",
       "      <td>0.153681</td>\n",
       "      <td>0.387949</td>\n",
       "      <td>-0.337169</td>\n",
       "      <td>-0.734067</td>\n",
       "    </tr>\n",
       "    <tr>\n",
       "      <th>4</th>\n",
       "      <td>-0.513562</td>\n",
       "      <td>-0.036443</td>\n",
       "      <td>0.322771</td>\n",
       "      <td>-0.845816</td>\n",
       "      <td>0.536518</td>\n",
       "      <td>-0.435454</td>\n",
       "      <td>0.005359</td>\n",
       "      <td>-0.762053</td>\n",
       "      <td>0.807828</td>\n",
       "      <td>0.227202</td>\n",
       "    </tr>\n",
       "    <tr>\n",
       "      <th>...</th>\n",
       "      <td>...</td>\n",
       "      <td>...</td>\n",
       "      <td>...</td>\n",
       "      <td>...</td>\n",
       "      <td>...</td>\n",
       "      <td>...</td>\n",
       "      <td>...</td>\n",
       "      <td>...</td>\n",
       "      <td>...</td>\n",
       "      <td>...</td>\n",
       "    </tr>\n",
       "    <tr>\n",
       "      <th>95</th>\n",
       "      <td>0.120560</td>\n",
       "      <td>0.025145</td>\n",
       "      <td>0.199197</td>\n",
       "      <td>0.481084</td>\n",
       "      <td>1.750914</td>\n",
       "      <td>-0.072872</td>\n",
       "      <td>0.673532</td>\n",
       "      <td>-1.127001</td>\n",
       "      <td>-0.615970</td>\n",
       "      <td>-1.070265</td>\n",
       "    </tr>\n",
       "    <tr>\n",
       "      <th>96</th>\n",
       "      <td>-0.549453</td>\n",
       "      <td>-1.040857</td>\n",
       "      <td>0.054505</td>\n",
       "      <td>0.333833</td>\n",
       "      <td>-0.174297</td>\n",
       "      <td>-0.650741</td>\n",
       "      <td>0.505431</td>\n",
       "      <td>-0.754658</td>\n",
       "      <td>-0.801609</td>\n",
       "      <td>0.962855</td>\n",
       "    </tr>\n",
       "    <tr>\n",
       "      <th>97</th>\n",
       "      <td>0.024130</td>\n",
       "      <td>0.607219</td>\n",
       "      <td>-0.093679</td>\n",
       "      <td>0.605852</td>\n",
       "      <td>0.278895</td>\n",
       "      <td>0.157330</td>\n",
       "      <td>-0.028907</td>\n",
       "      <td>0.252459</td>\n",
       "      <td>0.965624</td>\n",
       "      <td>0.085231</td>\n",
       "    </tr>\n",
       "    <tr>\n",
       "      <th>98</th>\n",
       "      <td>0.244982</td>\n",
       "      <td>0.252970</td>\n",
       "      <td>-0.305252</td>\n",
       "      <td>0.836656</td>\n",
       "      <td>-0.384649</td>\n",
       "      <td>-0.112389</td>\n",
       "      <td>-0.109219</td>\n",
       "      <td>0.068244</td>\n",
       "      <td>0.072439</td>\n",
       "      <td>0.463222</td>\n",
       "    </tr>\n",
       "    <tr>\n",
       "      <th>99</th>\n",
       "      <td>-0.056644</td>\n",
       "      <td>-0.428744</td>\n",
       "      <td>-1.844997</td>\n",
       "      <td>-0.126803</td>\n",
       "      <td>1.131058</td>\n",
       "      <td>-0.612532</td>\n",
       "      <td>-0.655240</td>\n",
       "      <td>1.082690</td>\n",
       "      <td>0.140701</td>\n",
       "      <td>-0.344383</td>\n",
       "    </tr>\n",
       "  </tbody>\n",
       "</table>\n",
       "<p>100 rows × 10 columns</p>\n",
       "</div>"
      ],
      "text/plain": [
       "           0         1         2         3         4         5         6  \\\n",
       "0   0.251309 -0.851148  0.799268 -0.087367 -0.486561 -0.654214 -0.201775   \n",
       "1  -1.504286 -0.178425  0.467271 -0.171103 -0.602601  0.065808 -0.095025   \n",
       "2  -1.374239 -0.151907  0.397709  0.942305 -0.278633 -0.501040 -0.524141   \n",
       "3  -0.472159 -0.144830  1.026161  0.899073 -0.784845  0.343206  0.153681   \n",
       "4  -0.513562 -0.036443  0.322771 -0.845816  0.536518 -0.435454  0.005359   \n",
       "..       ...       ...       ...       ...       ...       ...       ...   \n",
       "95  0.120560  0.025145  0.199197  0.481084  1.750914 -0.072872  0.673532   \n",
       "96 -0.549453 -1.040857  0.054505  0.333833 -0.174297 -0.650741  0.505431   \n",
       "97  0.024130  0.607219 -0.093679  0.605852  0.278895  0.157330 -0.028907   \n",
       "98  0.244982  0.252970 -0.305252  0.836656 -0.384649 -0.112389 -0.109219   \n",
       "99 -0.056644 -0.428744 -1.844997 -0.126803  1.131058 -0.612532 -0.655240   \n",
       "\n",
       "           7         8         9  \n",
       "0  -0.855384  0.362957 -0.684572  \n",
       "1   0.071877 -1.331579  0.853530  \n",
       "2   0.206357 -0.927245 -0.472649  \n",
       "3   0.387949 -0.337169 -0.734067  \n",
       "4  -0.762053  0.807828  0.227202  \n",
       "..       ...       ...       ...  \n",
       "95 -1.127001 -0.615970 -1.070265  \n",
       "96 -0.754658 -0.801609  0.962855  \n",
       "97  0.252459  0.965624  0.085231  \n",
       "98  0.068244  0.072439  0.463222  \n",
       "99  1.082690  0.140701 -0.344383  \n",
       "\n",
       "[100 rows x 10 columns]"
      ]
     },
     "execution_count": 34,
     "metadata": {},
     "output_type": "execute_result"
    }
   ],
   "source": [
    "pd.DataFrame(X_hat)"
   ]
  },
  {
   "cell_type": "code",
   "execution_count": 35,
   "metadata": {},
   "outputs": [
    {
     "data": {
      "text/html": [
       "<div>\n",
       "<style scoped>\n",
       "    .dataframe tbody tr th:only-of-type {\n",
       "        vertical-align: middle;\n",
       "    }\n",
       "\n",
       "    .dataframe tbody tr th {\n",
       "        vertical-align: top;\n",
       "    }\n",
       "\n",
       "    .dataframe thead th {\n",
       "        text-align: right;\n",
       "    }\n",
       "</style>\n",
       "<table border=\"1\" class=\"dataframe\">\n",
       "  <thead>\n",
       "    <tr style=\"text-align: right;\">\n",
       "      <th></th>\n",
       "      <th>0</th>\n",
       "      <th>1</th>\n",
       "      <th>2</th>\n",
       "      <th>3</th>\n",
       "      <th>4</th>\n",
       "      <th>5</th>\n",
       "      <th>6</th>\n",
       "      <th>7</th>\n",
       "      <th>8</th>\n",
       "      <th>9</th>\n",
       "    </tr>\n",
       "  </thead>\n",
       "  <tbody>\n",
       "    <tr>\n",
       "      <th>0</th>\n",
       "      <td>0.390441</td>\n",
       "      <td>-1.369103</td>\n",
       "      <td>1.326134</td>\n",
       "      <td>-0.118549</td>\n",
       "      <td>-0.607819</td>\n",
       "      <td>-1.023481</td>\n",
       "      <td>-0.312262</td>\n",
       "      <td>-1.244183</td>\n",
       "      <td>0.583228</td>\n",
       "      <td>-0.950753</td>\n",
       "    </tr>\n",
       "    <tr>\n",
       "      <th>1</th>\n",
       "      <td>-2.130814</td>\n",
       "      <td>-0.149100</td>\n",
       "      <td>0.503479</td>\n",
       "      <td>-0.262783</td>\n",
       "      <td>-1.046106</td>\n",
       "      <td>0.129415</td>\n",
       "      <td>-0.127629</td>\n",
       "      <td>0.012040</td>\n",
       "      <td>-1.920033</td>\n",
       "      <td>1.066188</td>\n",
       "    </tr>\n",
       "    <tr>\n",
       "      <th>2</th>\n",
       "      <td>-1.854152</td>\n",
       "      <td>0.005374</td>\n",
       "      <td>0.215293</td>\n",
       "      <td>1.213497</td>\n",
       "      <td>-0.771032</td>\n",
       "      <td>-0.594108</td>\n",
       "      <td>-0.686484</td>\n",
       "      <td>0.093981</td>\n",
       "      <td>-1.324145</td>\n",
       "      <td>-0.909102</td>\n",
       "    </tr>\n",
       "    <tr>\n",
       "      <th>3</th>\n",
       "      <td>-0.630027</td>\n",
       "      <td>-0.439550</td>\n",
       "      <td>1.782877</td>\n",
       "      <td>1.294929</td>\n",
       "      <td>-0.627730</td>\n",
       "      <td>0.389596</td>\n",
       "      <td>0.197959</td>\n",
       "      <td>0.745420</td>\n",
       "      <td>-0.366855</td>\n",
       "      <td>-0.696237</td>\n",
       "    </tr>\n",
       "    <tr>\n",
       "      <th>4</th>\n",
       "      <td>-0.773900</td>\n",
       "      <td>0.229688</td>\n",
       "      <td>0.040482</td>\n",
       "      <td>-1.288151</td>\n",
       "      <td>0.237013</td>\n",
       "      <td>-0.531459</td>\n",
       "      <td>0.025264</td>\n",
       "      <td>-1.353327</td>\n",
       "      <td>1.055371</td>\n",
       "      <td>-0.048211</td>\n",
       "    </tr>\n",
       "    <tr>\n",
       "      <th>...</th>\n",
       "      <td>...</td>\n",
       "      <td>...</td>\n",
       "      <td>...</td>\n",
       "      <td>...</td>\n",
       "      <td>...</td>\n",
       "      <td>...</td>\n",
       "      <td>...</td>\n",
       "      <td>...</td>\n",
       "      <td>...</td>\n",
       "      <td>...</td>\n",
       "    </tr>\n",
       "    <tr>\n",
       "      <th>95</th>\n",
       "      <td>0.170207</td>\n",
       "      <td>-0.215123</td>\n",
       "      <td>0.613401</td>\n",
       "      <td>0.634197</td>\n",
       "      <td>2.591246</td>\n",
       "      <td>-0.176070</td>\n",
       "      <td>0.800328</td>\n",
       "      <td>-1.150528</td>\n",
       "      <td>-0.643207</td>\n",
       "      <td>-0.967228</td>\n",
       "    </tr>\n",
       "    <tr>\n",
       "      <th>96</th>\n",
       "      <td>-0.671136</td>\n",
       "      <td>-1.548279</td>\n",
       "      <td>0.422477</td>\n",
       "      <td>0.470868</td>\n",
       "      <td>0.227491</td>\n",
       "      <td>-0.905570</td>\n",
       "      <td>0.624114</td>\n",
       "      <td>-0.750050</td>\n",
       "      <td>-0.915235</td>\n",
       "      <td>1.528668</td>\n",
       "    </tr>\n",
       "    <tr>\n",
       "      <th>97</th>\n",
       "      <td>0.045512</td>\n",
       "      <td>0.999555</td>\n",
       "      <td>-0.097239</td>\n",
       "      <td>1.047864</td>\n",
       "      <td>0.558609</td>\n",
       "      <td>0.254859</td>\n",
       "      <td>-0.052165</td>\n",
       "      <td>0.469448</td>\n",
       "      <td>1.673560</td>\n",
       "      <td>0.202174</td>\n",
       "    </tr>\n",
       "    <tr>\n",
       "      <th>98</th>\n",
       "      <td>0.442095</td>\n",
       "      <td>0.212584</td>\n",
       "      <td>-0.188106</td>\n",
       "      <td>1.481832</td>\n",
       "      <td>-0.235045</td>\n",
       "      <td>-0.271977</td>\n",
       "      <td>-0.201048</td>\n",
       "      <td>0.310025</td>\n",
       "      <td>0.216765</td>\n",
       "      <td>1.090893</td>\n",
       "    </tr>\n",
       "    <tr>\n",
       "      <th>99</th>\n",
       "      <td>-0.088856</td>\n",
       "      <td>-0.463289</td>\n",
       "      <td>-2.690758</td>\n",
       "      <td>-0.197672</td>\n",
       "      <td>1.308343</td>\n",
       "      <td>-0.790188</td>\n",
       "      <td>-0.883711</td>\n",
       "      <td>1.368026</td>\n",
       "      <td>0.141293</td>\n",
       "      <td>-0.628688</td>\n",
       "    </tr>\n",
       "  </tbody>\n",
       "</table>\n",
       "<p>100 rows × 10 columns</p>\n",
       "</div>"
      ],
      "text/plain": [
       "           0         1         2         3         4         5         6  \\\n",
       "0   0.390441 -1.369103  1.326134 -0.118549 -0.607819 -1.023481 -0.312262   \n",
       "1  -2.130814 -0.149100  0.503479 -0.262783 -1.046106  0.129415 -0.127629   \n",
       "2  -1.854152  0.005374  0.215293  1.213497 -0.771032 -0.594108 -0.686484   \n",
       "3  -0.630027 -0.439550  1.782877  1.294929 -0.627730  0.389596  0.197959   \n",
       "4  -0.773900  0.229688  0.040482 -1.288151  0.237013 -0.531459  0.025264   \n",
       "..       ...       ...       ...       ...       ...       ...       ...   \n",
       "95  0.170207 -0.215123  0.613401  0.634197  2.591246 -0.176070  0.800328   \n",
       "96 -0.671136 -1.548279  0.422477  0.470868  0.227491 -0.905570  0.624114   \n",
       "97  0.045512  0.999555 -0.097239  1.047864  0.558609  0.254859 -0.052165   \n",
       "98  0.442095  0.212584 -0.188106  1.481832 -0.235045 -0.271977 -0.201048   \n",
       "99 -0.088856 -0.463289 -2.690758 -0.197672  1.308343 -0.790188 -0.883711   \n",
       "\n",
       "           7         8         9  \n",
       "0  -1.244183  0.583228 -0.950753  \n",
       "1   0.012040 -1.920033  1.066188  \n",
       "2   0.093981 -1.324145 -0.909102  \n",
       "3   0.745420 -0.366855 -0.696237  \n",
       "4  -1.353327  1.055371 -0.048211  \n",
       "..       ...       ...       ...  \n",
       "95 -1.150528 -0.643207 -0.967228  \n",
       "96 -0.750050 -0.915235  1.528668  \n",
       "97  0.469448  1.673560  0.202174  \n",
       "98  0.310025  0.216765  1.090893  \n",
       "99  1.368026  0.141293 -0.628688  \n",
       "\n",
       "[100 rows x 10 columns]"
      ]
     },
     "execution_count": 35,
     "metadata": {},
     "output_type": "execute_result"
    }
   ],
   "source": [
    "pd.DataFrame(X)"
   ]
  },
  {
   "cell_type": "code",
   "execution_count": 36,
   "metadata": {},
   "outputs": [
    {
     "data": {
      "text/plain": [
       "810.9130934104778"
      ]
     },
     "execution_count": 36,
     "metadata": {},
     "output_type": "execute_result"
    }
   ],
   "source": [
    "np.linalg.norm(y)**2"
   ]
  },
  {
   "cell_type": "code",
   "execution_count": 37,
   "metadata": {},
   "outputs": [
    {
     "data": {
      "text/plain": [
       "190.94426653161295"
      ]
     },
     "execution_count": 37,
     "metadata": {},
     "output_type": "execute_result"
    }
   ],
   "source": [
    "l(X_hat)"
   ]
  },
  {
   "cell_type": "code",
   "execution_count": 38,
   "metadata": {},
   "outputs": [
    {
     "data": {
      "text/plain": [
       "1.0672579012105181"
      ]
     },
     "execution_count": 38,
     "metadata": {},
     "output_type": "execute_result"
    }
   ],
   "source": [
    "l(X)"
   ]
  },
  {
   "cell_type": "code",
   "execution_count": null,
   "metadata": {},
   "outputs": [],
   "source": []
  }
 ],
 "metadata": {
  "kernelspec": {
   "display_name": "Python 3",
   "language": "python",
   "name": "python3"
  },
  "language_info": {
   "codemirror_mode": {
    "name": "ipython",
    "version": 3
   },
   "file_extension": ".py",
   "mimetype": "text/x-python",
   "name": "python",
   "nbconvert_exporter": "python",
   "pygments_lexer": "ipython3",
   "version": "3.7.4"
  }
 },
 "nbformat": 4,
 "nbformat_minor": 4
}
