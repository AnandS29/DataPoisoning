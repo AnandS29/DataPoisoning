{
 "cells": [
  {
   "cell_type": "code",
   "execution_count": 1,
   "metadata": {},
   "outputs": [
    {
     "name": "stderr",
     "output_type": "stream",
     "text": [
      "/Users/anandsranjan/opt/anaconda3/envs/nfs_env/lib/python3.7/importlib/_bootstrap.py:219: RuntimeWarning: numpy.ufunc size changed, may indicate binary incompatibility. Expected 192 from C header, got 216 from PyObject\n",
      "  return f(*args, **kwds)\n",
      "/Users/anandsranjan/opt/anaconda3/envs/nfs_env/lib/python3.7/importlib/_bootstrap.py:219: RuntimeWarning: numpy.ufunc size changed, may indicate binary incompatibility. Expected 192 from C header, got 216 from PyObject\n",
      "  return f(*args, **kwds)\n",
      "/Users/anandsranjan/opt/anaconda3/envs/nfs_env/lib/python3.7/importlib/_bootstrap.py:219: RuntimeWarning: numpy.ufunc size changed, may indicate binary incompatibility. Expected 192 from C header, got 216 from PyObject\n",
      "  return f(*args, **kwds)\n"
     ]
    }
   ],
   "source": [
    "import numpy as np\n",
    "import cvxpy as cp\n",
    "import pandas as pd\n",
    "import matplotlib.pyplot as plt"
   ]
  },
  {
   "cell_type": "code",
   "execution_count": 4,
   "metadata": {},
   "outputs": [],
   "source": [
    "def gen_synthetic_multinomial(n0,n1,q,r,j):\n",
    "    # n0,n1 is the number of samples from class 0, 1 resp.\n",
    "    # q,r is are the theta^+/-\n",
    "    \n",
    "    X_train = []\n",
    "    y_train = []\n",
    "    \n",
    "    X_train.extend(np.random.multinomial(j, q, size=n0))\n",
    "    y_train.extend([1]*n0)\n",
    "    \n",
    "    X_train.extend(np.random.multinomial(j, r, size=n1))\n",
    "    y_train.extend([-1]*n1)\n",
    "    \n",
    "    X_train = np.array(X_train)\n",
    "    y_train = np.array(y_train)\n",
    "    \n",
    "    return X_train, y_train\n",
    "\n",
    "def gen_synthetic_normal(mu, sigma):\n",
    "    # n0,n1 is the number of samples from class 0, 1 resp.\n",
    "    # q,r is are the theta^+/-\n",
    "    \n",
    "    X_train = np.random.normal(mu, sigma)\n",
    "    y_train = np.random.\n",
    "    \n",
    "    X_train = np.array(X_train)\n",
    "    y_train = np.array(y_train)\n",
    "    \n",
    "    return X_train, y_train"
   ]
  },
  {
   "cell_type": "markdown",
   "metadata": {},
   "source": [
    "## Create dataset"
   ]
  },
  {
   "cell_type": "code",
   "execution_count": null,
   "metadata": {},
   "outputs": [],
   "source": [
    "m = 10 # number of features\n",
    "n = 100 # number of data points\n",
    "X, y = gen_synthetic"
   ]
  },
  {
   "cell_type": "markdown",
   "metadata": {},
   "source": [
    "## Nominal Problem"
   ]
  },
  {
   "cell_type": "code",
   "execution_count": 7,
   "metadata": {},
   "outputs": [],
   "source": [
    "def solve_nominal(X, y, l=10):\n",
    "    w = cp.Variable((m,1))\n",
    "    lamb = cp.Parameter(1)\n",
    "    lamb.value = l\n",
    "    nominal_obj = cp.Minimize(cp.square(cp.norm(X*w - y, 2)) + lamb*cp.square(cp.norm(w,2)))\n",
    "    constraints = []\n",
    "    prob = cp.Problem(nominal_obj, constraints)\n",
    "    prob.solve()\n",
    "    return prob.value, w.value"
   ]
  },
  {
   "cell_type": "markdown",
   "metadata": {},
   "source": [
    "## Robust Problem"
   ]
  },
  {
   "cell_type": "code",
   "execution_count": 8,
   "metadata": {},
   "outputs": [],
   "source": [
    "# TODO"
   ]
  },
  {
   "cell_type": "markdown",
   "metadata": {},
   "source": [
    "## Poisoned Problem"
   ]
  },
  {
   "cell_type": "code",
   "execution_count": null,
   "metadata": {},
   "outputs": [],
   "source": [
    "def solve_poisoned(X, y, l=10):\n",
    "    X = cp.Variable((n,m))\n",
    "    M = cp.Variable((n+1,m+1), PSD=True)\n",
    "    N = cp.Variable((m+n,m+n), PSD=True)\n",
    "    t = cp.Variable(1)\n",
    "    U = cp.Variable((m,m), PSD=True)\n",
    "    lamb = cp.Parameter(1)\n",
    "    lamb.value = l\n",
    "    robust_obj = cp.Minimize(t - cvx.norm(y))\n",
    "    constraints = [\n",
    "        M[0:n,0:m] == U,\n",
    "        M[n,m] == t,\n",
    "        M[n,:] == y.T*X,\n",
    "        M[:,m] == X.T*y,\n",
    "        \n",
    "    ]"
   ]
  }
 ],
 "metadata": {
  "kernelspec": {
   "display_name": "Python 3",
   "language": "python",
   "name": "python3"
  },
  "language_info": {
   "codemirror_mode": {
    "name": "ipython",
    "version": 3
   },
   "file_extension": ".py",
   "mimetype": "text/x-python",
   "name": "python",
   "nbconvert_exporter": "python",
   "pygments_lexer": "ipython3",
   "version": "3.7.4"
  }
 },
 "nbformat": 4,
 "nbformat_minor": 4
}
