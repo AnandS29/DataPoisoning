{
 "cells": [
  {
   "cell_type": "code",
   "execution_count": 1,
   "metadata": {},
   "outputs": [],
   "source": [
    "import numpy as np\n",
    "import cvxpy as cp\n",
    "import pandas as pd\n",
    "import matplotlib.pyplot as plt\n",
    "%matplotlib inline"
   ]
  },
  {
   "cell_type": "code",
   "execution_count": 29,
   "metadata": {},
   "outputs": [],
   "source": [
    "def gen_synthetic(n,d, sigma):\n",
    "    \n",
    "    X = np.random.normal(0, 1, n*d).reshape(n, d)\n",
    "    w = np.random.normal(0, 1, d)\n",
    "    y = X@w + np.random.normal(0, sigma, n)\n",
    "    \n",
    "    return X, y, w"
   ]
  },
  {
   "cell_type": "code",
   "execution_count": 30,
   "metadata": {},
   "outputs": [],
   "source": [
    "n=500\n",
    "d=20\n",
    "X, y, w_star = gen_synthetic(n, d, 0.1)"
   ]
  },
  {
   "cell_type": "code",
   "execution_count": 31,
   "metadata": {},
   "outputs": [
    {
     "data": {
      "text/plain": [
       "array([ 1.88267651,  2.14703697,  0.42124238,  0.41378537, -0.94480181,\n",
       "        1.21295239,  2.19898558,  0.09852006, -0.80967307, -1.17435525,\n",
       "        0.13828755,  0.13890834, -1.11108905, -0.59207476, -0.38563503,\n",
       "       -1.87063353, -0.03429733, -0.03571881, -0.73484923, -0.71576944])"
      ]
     },
     "execution_count": 31,
     "metadata": {},
     "output_type": "execute_result"
    }
   ],
   "source": [
    "w_star"
   ]
  },
  {
   "cell_type": "code",
   "execution_count": 63,
   "metadata": {},
   "outputs": [
    {
     "data": {
      "text/plain": [
       "array([ 1.88954263,  2.1551777 ,  0.42342156,  0.41625003, -0.94707039,\n",
       "        1.21257269,  2.20460825,  0.09154577, -0.81045735, -1.17647297,\n",
       "        0.13950721,  0.13233538, -1.11844949, -0.58729595, -0.38777008,\n",
       "       -1.87279675, -0.02444276, -0.0292303 , -0.73265009, -0.71319645])"
      ]
     },
     "execution_count": 63,
     "metadata": {},
     "output_type": "execute_result"
    }
   ],
   "source": [
    "w = np.linalg.pinv(X)@y\n",
    "w"
   ]
  },
  {
   "cell_type": "code",
   "execution_count": 68,
   "metadata": {},
   "outputs": [
    {
     "data": {
      "text/plain": [
       "(4.6720013740729085, 12481.666560814387)"
      ]
     },
     "execution_count": 68,
     "metadata": {},
     "output_type": "execute_result"
    }
   ],
   "source": [
    "np.linalg.norm(X@w-y)**2, np.linalg.norm(np.abs(X@w-y) + np.linalg.norm(w)*np.ones(n))**2"
   ]
  },
  {
   "cell_type": "markdown",
   "metadata": {},
   "source": [
    "# Robust stuff "
   ]
  },
  {
   "cell_type": "code",
   "execution_count": 74,
   "metadata": {},
   "outputs": [
    {
     "name": "stdout",
     "output_type": "stream",
     "text": [
      "10642.551074225774\n"
     ]
    }
   ],
   "source": [
    "def rob_linreg(X,y, rho, lambda_):\n",
    "    # data, labels = X,y\n",
    "    n,d = X.shape\n",
    "    w_rob = cp.Variable(d)\n",
    "\n",
    "    abs_resids = cp.abs(X@w_rob - y)\n",
    "    robper = rho*cp.norm(w_rob, p=2)*np.ones(n)\n",
    "    ridge_pen = lambda_*cp.norm(w_rob, p=2)**2\n",
    "    obj = cp.norm(abs_resids + robper, p=2)**2 + ridge_pen\n",
    "\n",
    "    prob = cp.Problem(cp.Minimize(obj))\n",
    "    prob.solve()\n",
    "    return w_rob, prob\n",
    "\n",
    "w_rob, prob = rob_linreg(X, y, 1, 0)\n",
    "print(prob.value)"
   ]
  },
  {
   "cell_type": "code",
   "execution_count": 73,
   "metadata": {},
   "outputs": [
    {
     "data": {
      "text/plain": [
       "3355.168983921537"
      ]
     },
     "execution_count": 73,
     "metadata": {},
     "output_type": "execute_result"
    }
   ],
   "source": [
    "np.linalg.norm(X@w_rob.value-y)**2"
   ]
  },
  {
   "cell_type": "code",
   "execution_count": 69,
   "metadata": {
    "scrolled": true
   },
   "outputs": [
    {
     "data": {
      "text/plain": [
       "array([ 0.83059411,  0.9904502 ,  0.1863713 ,  0.16980354, -0.47383208,\n",
       "        0.64626007,  0.96508304,  0.05305684, -0.3193917 , -0.53284632,\n",
       "        0.01256961, -0.06820422, -0.51828928, -0.28408702, -0.27768418,\n",
       "       -0.86685609, -0.06954154,  0.08101882, -0.38469031, -0.27445241])"
      ]
     },
     "execution_count": 69,
     "metadata": {},
     "output_type": "execute_result"
    }
   ],
   "source": [
    "w_rob.value"
   ]
  },
  {
   "cell_type": "code",
   "execution_count": 62,
   "metadata": {},
   "outputs": [
    {
     "data": {
      "text/plain": [
       "array([ 1.88267651,  2.14703697,  0.42124238,  0.41378537, -0.94480181,\n",
       "        1.21295239,  2.19898558,  0.09852006, -0.80967307, -1.17435525,\n",
       "        0.13828755,  0.13890834, -1.11108905, -0.59207476, -0.38563503,\n",
       "       -1.87063353, -0.03429733, -0.03571881, -0.73484923, -0.71576944])"
      ]
     },
     "execution_count": 62,
     "metadata": {},
     "output_type": "execute_result"
    }
   ],
   "source": [
    "w_star"
   ]
  }
 ],
 "metadata": {
  "kernelspec": {
   "display_name": "Python 3",
   "language": "python",
   "name": "python3"
  },
  "language_info": {
   "codemirror_mode": {
    "name": "ipython",
    "version": 3
   },
   "file_extension": ".py",
   "mimetype": "text/x-python",
   "name": "python",
   "nbconvert_exporter": "python",
   "pygments_lexer": "ipython3",
   "version": "3.7.1"
  }
 },
 "nbformat": 4,
 "nbformat_minor": 4
}
