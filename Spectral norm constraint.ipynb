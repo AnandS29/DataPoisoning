{
 "cells": [
  {
   "cell_type": "code",
   "execution_count": 33,
   "metadata": {},
   "outputs": [
    {
     "name": "stdout",
     "output_type": "stream",
     "text": [
      "The autoreload extension is already loaded. To reload it, use:\n",
      "  %reload_ext autoreload\n"
     ]
    }
   ],
   "source": [
    "import numpy as np\n",
    "import cvxpy as cp\n",
    "import pandas as pd\n",
    "import matplotlib.pyplot as plt\n",
    "import sys\n",
    "sys.path.append('./utils')\n",
    "from interval_bounds import *\n",
    "from data_generation import *\n",
    "from ridge_poisoning import *\n",
    "from spectral_norm_constrained import solve_spectral_norm_constrained\n",
    "%load_ext autoreload\n",
    "%autoreload 2"
   ]
  },
  {
   "cell_type": "markdown",
   "metadata": {},
   "source": [
    "## Create dataset"
   ]
  },
  {
   "cell_type": "code",
   "execution_count": 34,
   "metadata": {},
   "outputs": [],
   "source": [
    "n = 100 # number of data points\n",
    "m = 10 # number of features\n",
    "sigma = 0.1\n",
    "lamb = 10\n",
    "rho = 1\n",
    "X, y, w = gen_synthetic_normal(n,m,sigma)"
   ]
  },
  {
   "cell_type": "code",
   "execution_count": 35,
   "metadata": {},
   "outputs": [],
   "source": [
    "#U_upper, U_lower = find_interval_bounds_infty_uncertainty(X, rho)"
   ]
  },
  {
   "cell_type": "code",
   "execution_count": 36,
   "metadata": {},
   "outputs": [],
   "source": [
    "l = lambda X: np.linalg.norm(X@np.linalg.pinv(X)@y-y)**2"
   ]
  },
  {
   "cell_type": "code",
   "execution_count": 37,
   "metadata": {},
   "outputs": [
    {
     "name": "stdout",
     "output_type": "stream",
     "text": [
      "Shape of X:  (100, 10)\n",
      "Shape of y:  (100, 1)\n",
      "Shape of w:  (10, 1)\n"
     ]
    }
   ],
   "source": [
    "print(\"Shape of X: \", X.shape)\n",
    "print(\"Shape of y: \", y.shape)\n",
    "print(\"Shape of w: \", w.shape)"
   ]
  },
  {
   "cell_type": "markdown",
   "metadata": {},
   "source": [
    "## Nominal Problem"
   ]
  },
  {
   "cell_type": "code",
   "execution_count": 38,
   "metadata": {},
   "outputs": [],
   "source": [
    "loss, w_hat = solve_nominal(X,y,lamb=10)"
   ]
  },
  {
   "cell_type": "code",
   "execution_count": 39,
   "metadata": {},
   "outputs": [
    {
     "name": "stdout",
     "output_type": "stream",
     "text": [
      "Loss:  129.47074495805606\n",
      "1.018378166730138\n"
     ]
    }
   ],
   "source": [
    "print(\"Loss: \", loss)\n",
    "print(l(X))"
   ]
  },
  {
   "cell_type": "markdown",
   "metadata": {},
   "source": [
    "## Robust Problem"
   ]
  },
  {
   "cell_type": "code",
   "execution_count": 40,
   "metadata": {},
   "outputs": [],
   "source": [
    "loss, w_hat = solve_robust(X,y,rho=rho,lambda_=lamb)"
   ]
  },
  {
   "cell_type": "code",
   "execution_count": 41,
   "metadata": {},
   "outputs": [
    {
     "name": "stdout",
     "output_type": "stream",
     "text": [
      "Loss:  1201.5393063478427\n"
     ]
    }
   ],
   "source": [
    "print(\"Loss: \", loss)"
   ]
  },
  {
   "cell_type": "markdown",
   "metadata": {},
   "source": [
    "## Poisoned Problem"
   ]
  },
  {
   "cell_type": "code",
   "execution_count": 42,
   "metadata": {},
   "outputs": [
    {
     "name": "stdout",
     "output_type": "stream",
     "text": [
      "Shape of X:  (100, 10)\n",
      "Shape of y:  (100, 1)\n",
      "Shape of w:  (10, 1)\n"
     ]
    }
   ],
   "source": [
    "print(\"Shape of X: \", X.shape)\n",
    "print(\"Shape of y: \", y.shape)\n",
    "print(\"Shape of w: \", w.shape)"
   ]
  },
  {
   "cell_type": "code",
   "execution_count": 43,
   "metadata": {},
   "outputs": [
    {
     "name": "stdout",
     "output_type": "stream",
     "text": [
      "(1, 10)\n",
      "(1, 10)\n"
     ]
    }
   ],
   "source": [
    "print((y.T@X).shape)\n",
    "print((np.ones((m+1,m+1))[m:m+1,0:m]).shape)"
   ]
  },
  {
   "cell_type": "code",
   "execution_count": 44,
   "metadata": {},
   "outputs": [],
   "source": [
    "X_hats = []\n",
    "losses = []"
   ]
  },
  {
   "cell_type": "code",
   "execution_count": 45,
   "metadata": {},
   "outputs": [],
   "source": [
    "U, Sigma, V = np.linalg.svd(X)"
   ]
  },
  {
   "cell_type": "code",
   "execution_count": 46,
   "metadata": {},
   "outputs": [
    {
     "data": {
      "text/plain": [
       "array([12.91692294, 12.6639056 , 10.95314388, 10.66013591, 10.18821058,\n",
       "        9.64519679,  9.19801751,  9.06845783,  7.86252754,  7.42088063])"
      ]
     },
     "execution_count": 46,
     "metadata": {},
     "output_type": "execute_result"
    }
   ],
   "source": [
    "Sigma"
   ]
  },
  {
   "cell_type": "code",
   "execution_count": 68,
   "metadata": {},
   "outputs": [],
   "source": [
    "eps_range = np.linspace(6.8, 13.1, 7)"
   ]
  },
  {
   "cell_type": "code",
   "execution_count": 69,
   "metadata": {},
   "outputs": [
    {
     "data": {
      "text/plain": [
       "array([ 6.8 ,  7.85,  8.9 ,  9.95, 11.  , 12.05, 13.1 ])"
      ]
     },
     "execution_count": 69,
     "metadata": {},
     "output_type": "execute_result"
    }
   ],
   "source": [
    "eps_range"
   ]
  },
  {
   "cell_type": "code",
   "execution_count": 71,
   "metadata": {},
   "outputs": [
    {
     "name": "stdout",
     "output_type": "stream",
     "text": [
      "6.8\n",
      "7.85\n",
      "8.9\n",
      "9.95\n",
      "11.0\n",
      "12.05\n",
      "13.1\n",
      "Can make zero matrix\n"
     ]
    }
   ],
   "source": [
    "r_stars = []\n",
    "losses = []\n",
    "X_hats = []\n",
    "for rho in eps_range:\n",
    "    print(rho)\n",
    "    #_, X_hat, _ = solve_poisoned_relaxed_interval_bounded(X,y,lamb=lamb,rho=rho, U_lower = U_lower, U_upper = U_upper, mu=10)\n",
    "    X_hat, r_star = solve_spectral_norm_constrained(X, y, rho)\n",
    "    X_hats.append(X_hat)\n",
    "    r_stars.append(r_star)\n",
    "    losses.append(l(X_hat))"
   ]
  },
  {
   "cell_type": "code",
   "execution_count": 72,
   "metadata": {},
   "outputs": [
    {
     "data": {
      "text/plain": [
       "[array([1.65775232e+27]),\n",
       " array([-3.73422514e+14]),\n",
       " array([-1.99104174e+23]),\n",
       " array([8.44958634e+22]),\n",
       " array([3.74926777e+20]),\n",
       " array([2.62739426e+19]),\n",
       " None]"
      ]
     },
     "execution_count": 72,
     "metadata": {},
     "output_type": "execute_result"
    }
   ],
   "source": [
    "r_stars"
   ]
  },
  {
   "cell_type": "code",
   "execution_count": 73,
   "metadata": {},
   "outputs": [
    {
     "data": {
      "text/plain": [
       "[145.4744567363716,\n",
       " 145.4744567363716,\n",
       " 145.47445673637168,\n",
       " 145.47445673637168,\n",
       " 145.4744567363716,\n",
       " 145.47445673637168,\n",
       " 1257.1365861864294]"
      ]
     },
     "execution_count": 73,
     "metadata": {},
     "output_type": "execute_result"
    }
   ],
   "source": [
    "losses"
   ]
  },
  {
   "cell_type": "code",
   "execution_count": null,
   "metadata": {},
   "outputs": [],
   "source": []
  },
  {
   "cell_type": "code",
   "execution_count": null,
   "metadata": {},
   "outputs": [],
   "source": [
    "print(losses)"
   ]
  },
  {
   "cell_type": "code",
   "execution_count": null,
   "metadata": {},
   "outputs": [],
   "source": [
    "print(X.shape)"
   ]
  },
  {
   "cell_type": "code",
   "execution_count": null,
   "metadata": {},
   "outputs": [],
   "source": [
    "plt.figure()\n",
    "for i in range(X.shape[0]):\n",
    "    plt.scatter(X[i],y[i])"
   ]
  },
  {
   "cell_type": "code",
   "execution_count": null,
   "metadata": {},
   "outputs": [],
   "source": [
    "for X_hat in X_hats:\n",
    "    plt.figure()\n",
    "    plt.xlim(-3,3)\n",
    "    plt.ylim(-3,3)\n",
    "    for i in range(X_hat.shape[0]):\n",
    "        plt.scatter(X_hat[i],y[i])"
   ]
  },
  {
   "cell_type": "code",
   "execution_count": null,
   "metadata": {},
   "outputs": [],
   "source": [
    "for X_hat in X_hats:\n",
    "    print(np.linalg.norm(X_hat-X,2))"
   ]
  },
  {
   "cell_type": "code",
   "execution_count": null,
   "metadata": {},
   "outputs": [],
   "source": []
  }
 ],
 "metadata": {
  "kernelspec": {
   "display_name": "Python 3",
   "language": "python",
   "name": "python3"
  },
  "language_info": {
   "codemirror_mode": {
    "name": "ipython",
    "version": 3
   },
   "file_extension": ".py",
   "mimetype": "text/x-python",
   "name": "python",
   "nbconvert_exporter": "python",
   "pygments_lexer": "ipython3",
   "version": "3.7.1"
  }
 },
 "nbformat": 4,
 "nbformat_minor": 4
}
