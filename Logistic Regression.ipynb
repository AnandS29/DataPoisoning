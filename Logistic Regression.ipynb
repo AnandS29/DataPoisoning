{
 "cells": [
  {
   "cell_type": "code",
   "execution_count": 2,
   "metadata": {},
   "outputs": [],
   "source": [
    "import numpy as np\n",
    "import cvxpy as cp\n",
    "import pandas as pd\n",
    "import matplotlib.pyplot as plt\n",
    "\n",
    "from data_generation import *"
   ]
  },
  {
   "cell_type": "markdown",
   "metadata": {},
   "source": [
    "## Create dataset"
   ]
  },
  {
   "cell_type": "code",
   "execution_count": 18,
   "metadata": {},
   "outputs": [],
   "source": [
    "n = 100 # number of data points\n",
    "m = 1 # number of features\n",
    "sigma = 0.1\n",
    "lamb = 2\n",
    "rho = 1\n",
    "X, y, w = gen_synthetic_normal(n,m,sigma)"
   ]
  },
  {
   "cell_type": "code",
   "execution_count": 19,
   "metadata": {},
   "outputs": [],
   "source": [
    "l = lambda X: np.linalg.norm(X@np.linalg.pinv(X)@y-y)**2"
   ]
  },
  {
   "cell_type": "code",
   "execution_count": 20,
   "metadata": {},
   "outputs": [
    {
     "name": "stdout",
     "output_type": "stream",
     "text": [
      "Shape of X:  (100, 1)\n",
      "Shape of y:  (100, 1)\n",
      "Shape of w:  (1, 1)\n"
     ]
    }
   ],
   "source": [
    "print(\"Shape of X: \", X.shape)\n",
    "print(\"Shape of y: \", y.shape)\n",
    "print(\"Shape of w: \", w.shape)"
   ]
  },
  {
   "cell_type": "markdown",
   "metadata": {},
   "source": [
    "## Nominal Problem"
   ]
  },
  {
   "cell_type": "code",
   "execution_count": 21,
   "metadata": {},
   "outputs": [],
   "source": [
    "def solve_nominal(X, y, lamb=1):\n",
    "    beta = cp.Variable((m,1))\n",
    "    log_likelihood = cp.sum(\n",
    "        cp.multiply(y, X @ beta) - cp.logistic(X @ beta)\n",
    "    )\n",
    "    prob = cp.Problem(cp.Maximize(log_likelihood/n - lamb * cp.norm(beta, 2)))\n",
    "    prob.solve()\n",
    "    return prob.value, beta.value"
   ]
  },
  {
   "cell_type": "code",
   "execution_count": 22,
   "metadata": {},
   "outputs": [
    {
     "name": "stdout",
     "output_type": "stream",
     "text": [
      "-0.6025550647646747 [[-0.87384067]]\n"
     ]
    }
   ],
   "source": [
    "loss, beta = solve_nominal(X,y,lamb)\n",
    "print(loss,beta)"
   ]
  },
  {
   "cell_type": "markdown",
   "metadata": {},
   "source": [
    "## Robust Problem"
   ]
  },
  {
   "cell_type": "markdown",
   "metadata": {},
   "source": [
    "https://arxiv.org/pdf/1412.6572.pdf\n",
    "\n",
    "Check page 4"
   ]
  },
  {
   "cell_type": "code",
   "execution_count": 32,
   "metadata": {},
   "outputs": [],
   "source": [
    "def solve_robust(X, y, lamb=1,rho=0.1):\n",
    "    w = cp.Variable((m,1))\n",
    "    b = cp.Variable(1)\n",
    "    robust_obj = cp.Minimize(cp.sum(cp.logistic(cp.multiply(y,(rho*cp.norm(w,1) - X@w - b)))) + lamb*cp.square(cp.norm(w,2)))\n",
    "    prob = cp.Problem(robust_obj)\n",
    "    prob.solve()\n",
    "    return prob.value, w.value, b.value"
   ]
  },
  {
   "cell_type": "code",
   "execution_count": 33,
   "metadata": {},
   "outputs": [
    {
     "ename": "DCPError",
     "evalue": "Problem does not follow DCP rules. Specifically:\nThe objective is not DCP. Its following subexpressions are not:\n[[-0.29915037]\n [-3.88090367]\n [ 2.21373123]\n [ 1.91348189]\n [ 1.71221572]\n [-0.34340797]\n [-2.16399919]\n [ 1.19601845]\n [ 0.38424361]\n [ 0.94441981]\n [ 0.38662849]\n [ 1.64405136]\n [-2.35750371]\n [ 0.85223018]\n [-0.8813186 ]\n [-3.11178457]\n [ 2.34438367]\n [ 2.66965757]\n [-0.83027786]\n [-0.07548711]\n [-0.97654628]\n [ 2.01732266]\n [-4.32094321]\n [ 0.12198457]\n [ 1.5034777 ]\n [ 1.4699799 ]\n [-2.09012213]\n [-1.07340079]\n [ 0.83851692]\n [ 0.39560752]\n [ 2.80485942]\n [-1.63495372]\n [ 4.10657855]\n [-2.02143501]\n [ 4.71456365]\n [ 0.78319156]\n [-0.72605406]\n [-0.45402683]\n [-3.99127321]\n [-0.90769092]\n [ 0.92540298]\n [ 1.32844285]\n [-1.73518033]\n [ 2.29269536]\n [-1.61345056]\n [ 0.3926185 ]\n [ 2.73133287]\n [ 0.1425875 ]\n [ 3.29551527]\n [-1.86458579]\n [-1.33757215]\n [ 1.21742339]\n [ 2.06991996]\n [ 1.86518299]\n [-0.61606043]\n [-2.04913978]\n [ 1.85184179]\n [ 1.69480115]\n [-3.19647627]\n [ 1.76825296]\n [-0.06980137]\n [ 2.62347867]\n [ 1.39616799]\n [-4.00433153]\n [ 2.74778029]\n [-2.02849984]\n [ 2.44622651]\n [-1.75086303]\n [ 0.48720284]\n [ 1.77268097]\n [ 2.78888863]\n [-0.30880558]\n [-1.86559788]\n [ 2.29071982]\n [-0.92588954]\n [-0.8113622 ]\n [-2.7371287 ]\n [-0.79650234]\n [-1.57241516]\n [-2.43740765]\n [ 3.82346203]\n [-2.16705678]\n [ 4.8969447 ]\n [ 0.86174864]\n [-3.53585172]\n [-1.2084533 ]\n [ 0.73481681]\n [ 1.10305569]\n [ 3.98994054]\n [-2.01651812]\n [ 0.37825405]\n [-1.69559279]\n [ 1.82040655]\n [-1.61812817]\n [ 0.08310035]\n [-2.07356335]\n [ 0.52988968]\n [ 1.88253079]\n [-2.09126317]\n [ 1.67889014]] * (0.1 * max(norm1(var975), None, False) + -[[ 0.20603968]\n [ 2.01892835]\n [-1.11130681]\n [-1.00710757]\n [-0.85139398]\n [ 0.16472667]\n [ 1.10318597]\n [-0.62458127]\n [-0.13081594]\n [-0.61827081]\n [-0.23474798]\n [-0.91553023]\n [ 1.2826022 ]\n [-0.43612095]\n [ 0.44927125]\n [ 1.6248419 ]\n [-1.27454666]\n [-1.37130946]\n [ 0.42323111]\n [ 0.04303981]\n [ 0.56570885]\n [-1.10779488]\n [ 2.23547534]\n [-0.02753405]\n [-0.73276236]\n [-0.72145065]\n [ 1.10739202]\n [ 0.61594692]\n [-0.45806213]\n [-0.12521539]\n [-1.50437771]\n [ 0.9316808 ]\n [-2.22755829]\n [ 1.09409874]\n [-2.47159045]\n [-0.45584438]\n [ 0.34310501]\n [ 0.34348118]\n [ 2.04670413]\n [ 0.40334141]\n [-0.45555482]\n [-0.66446964]\n [ 0.88666044]\n [-1.2244264 ]\n [ 0.76380164]\n [-0.23926575]\n [-1.41955496]\n [-0.04828039]\n [-1.7607628 ]\n [ 0.87643474]\n [ 0.71853816]\n [-0.58541504]\n [-1.06838396]\n [-1.04446132]\n [ 0.21599517]\n [ 0.95346135]\n [-0.98519728]\n [-0.88075558]\n [ 1.62281362]\n [-0.94962861]\n [ 0.04056106]\n [-1.35965292]\n [-0.79907362]\n [ 2.17638096]\n [-1.5176625 ]\n [ 1.05645584]\n [-1.35439805]\n [ 1.0029065 ]\n [-0.1590541 ]\n [-0.9190567 ]\n [-1.51212241]\n [ 0.13394375]\n [ 0.95617007]\n [-1.12557792]\n [ 0.44319797]\n [ 0.31675511]\n [ 1.4048846 ]\n [ 0.41809488]\n [ 0.8835787 ]\n [ 1.26839713]\n [-2.08634676]\n [ 1.13335825]\n [-2.61183518]\n [-0.49718427]\n [ 1.78326157]\n [ 0.61088537]\n [-0.35751906]\n [-0.514878  ]\n [-2.04134801]\n [ 1.07116191]\n [-0.22383691]\n [ 0.91320931]\n [-0.87376021]\n [ 0.87176283]\n [-0.06535133]\n [ 1.11495375]\n [-0.3611592 ]\n [-0.97643284]\n [ 1.12676017]\n [-0.81535156]] * var975 + -var976)",
     "output_type": "error",
     "traceback": [
      "\u001b[0;31m---------------------------------------------------------------------------\u001b[0m",
      "\u001b[0;31mDCPError\u001b[0m                                  Traceback (most recent call last)",
      "\u001b[0;32m<ipython-input-33-fd799eb4e9a7>\u001b[0m in \u001b[0;36m<module>\u001b[0;34m\u001b[0m\n\u001b[0;32m----> 1\u001b[0;31m \u001b[0mloss\u001b[0m\u001b[0;34m,\u001b[0m \u001b[0mbeta\u001b[0m\u001b[0;34m,\u001b[0m \u001b[0mb\u001b[0m \u001b[0;34m=\u001b[0m \u001b[0msolve_robust\u001b[0m\u001b[0;34m(\u001b[0m\u001b[0mX\u001b[0m\u001b[0;34m,\u001b[0m\u001b[0my\u001b[0m\u001b[0;34m,\u001b[0m\u001b[0mlamb\u001b[0m\u001b[0;34m)\u001b[0m\u001b[0;34m\u001b[0m\u001b[0;34m\u001b[0m\u001b[0m\n\u001b[0m\u001b[1;32m      2\u001b[0m \u001b[0mprint\u001b[0m\u001b[0;34m(\u001b[0m\u001b[0mloss\u001b[0m\u001b[0;34m,\u001b[0m\u001b[0mbeta\u001b[0m\u001b[0;34m)\u001b[0m\u001b[0;34m\u001b[0m\u001b[0;34m\u001b[0m\u001b[0m\n",
      "\u001b[0;32m<ipython-input-32-35f902ce8f0e>\u001b[0m in \u001b[0;36msolve_robust\u001b[0;34m(X, y, lamb, rho)\u001b[0m\n\u001b[1;32m      4\u001b[0m     \u001b[0mrobust_obj\u001b[0m \u001b[0;34m=\u001b[0m \u001b[0mcp\u001b[0m\u001b[0;34m.\u001b[0m\u001b[0mMinimize\u001b[0m\u001b[0;34m(\u001b[0m\u001b[0mcp\u001b[0m\u001b[0;34m.\u001b[0m\u001b[0msum\u001b[0m\u001b[0;34m(\u001b[0m\u001b[0mcp\u001b[0m\u001b[0;34m.\u001b[0m\u001b[0mlogistic\u001b[0m\u001b[0;34m(\u001b[0m\u001b[0mcp\u001b[0m\u001b[0;34m.\u001b[0m\u001b[0mmultiply\u001b[0m\u001b[0;34m(\u001b[0m\u001b[0my\u001b[0m\u001b[0;34m,\u001b[0m\u001b[0;34m(\u001b[0m\u001b[0mrho\u001b[0m\u001b[0;34m*\u001b[0m\u001b[0mcp\u001b[0m\u001b[0;34m.\u001b[0m\u001b[0mnorm\u001b[0m\u001b[0;34m(\u001b[0m\u001b[0mw\u001b[0m\u001b[0;34m,\u001b[0m\u001b[0;36m1\u001b[0m\u001b[0;34m)\u001b[0m \u001b[0;34m-\u001b[0m \u001b[0mX\u001b[0m\u001b[0;34m@\u001b[0m\u001b[0mw\u001b[0m \u001b[0;34m-\u001b[0m \u001b[0mb\u001b[0m\u001b[0;34m)\u001b[0m\u001b[0;34m)\u001b[0m\u001b[0;34m)\u001b[0m\u001b[0;34m)\u001b[0m \u001b[0;34m+\u001b[0m \u001b[0mlamb\u001b[0m\u001b[0;34m*\u001b[0m\u001b[0mcp\u001b[0m\u001b[0;34m.\u001b[0m\u001b[0msquare\u001b[0m\u001b[0;34m(\u001b[0m\u001b[0mcp\u001b[0m\u001b[0;34m.\u001b[0m\u001b[0mnorm\u001b[0m\u001b[0;34m(\u001b[0m\u001b[0mw\u001b[0m\u001b[0;34m,\u001b[0m\u001b[0;36m2\u001b[0m\u001b[0;34m)\u001b[0m\u001b[0;34m)\u001b[0m\u001b[0;34m)\u001b[0m\u001b[0;34m\u001b[0m\u001b[0;34m\u001b[0m\u001b[0m\n\u001b[1;32m      5\u001b[0m     \u001b[0mprob\u001b[0m \u001b[0;34m=\u001b[0m \u001b[0mcp\u001b[0m\u001b[0;34m.\u001b[0m\u001b[0mProblem\u001b[0m\u001b[0;34m(\u001b[0m\u001b[0mrobust_obj\u001b[0m\u001b[0;34m)\u001b[0m\u001b[0;34m\u001b[0m\u001b[0;34m\u001b[0m\u001b[0m\n\u001b[0;32m----> 6\u001b[0;31m     \u001b[0mprob\u001b[0m\u001b[0;34m.\u001b[0m\u001b[0msolve\u001b[0m\u001b[0;34m(\u001b[0m\u001b[0;34m)\u001b[0m\u001b[0;34m\u001b[0m\u001b[0;34m\u001b[0m\u001b[0m\n\u001b[0m\u001b[1;32m      7\u001b[0m     \u001b[0;32mreturn\u001b[0m \u001b[0mprob\u001b[0m\u001b[0;34m.\u001b[0m\u001b[0mvalue\u001b[0m\u001b[0;34m,\u001b[0m \u001b[0mw\u001b[0m\u001b[0;34m.\u001b[0m\u001b[0mvalue\u001b[0m\u001b[0;34m,\u001b[0m \u001b[0mb\u001b[0m\u001b[0;34m.\u001b[0m\u001b[0mvalue\u001b[0m\u001b[0;34m\u001b[0m\u001b[0;34m\u001b[0m\u001b[0m\n",
      "\u001b[0;32m~/opt/anaconda3/envs/nfs_env/lib/python3.7/site-packages/cvxpy/problems/problem.py\u001b[0m in \u001b[0;36msolve\u001b[0;34m(self, *args, **kwargs)\u001b[0m\n\u001b[1;32m    287\u001b[0m         \u001b[0;32melse\u001b[0m\u001b[0;34m:\u001b[0m\u001b[0;34m\u001b[0m\u001b[0;34m\u001b[0m\u001b[0m\n\u001b[1;32m    288\u001b[0m             \u001b[0msolve_func\u001b[0m \u001b[0;34m=\u001b[0m \u001b[0mProblem\u001b[0m\u001b[0;34m.\u001b[0m\u001b[0m_solve\u001b[0m\u001b[0;34m\u001b[0m\u001b[0;34m\u001b[0m\u001b[0m\n\u001b[0;32m--> 289\u001b[0;31m         \u001b[0;32mreturn\u001b[0m \u001b[0msolve_func\u001b[0m\u001b[0;34m(\u001b[0m\u001b[0mself\u001b[0m\u001b[0;34m,\u001b[0m \u001b[0;34m*\u001b[0m\u001b[0margs\u001b[0m\u001b[0;34m,\u001b[0m \u001b[0;34m**\u001b[0m\u001b[0mkwargs\u001b[0m\u001b[0;34m)\u001b[0m\u001b[0;34m\u001b[0m\u001b[0;34m\u001b[0m\u001b[0m\n\u001b[0m\u001b[1;32m    290\u001b[0m \u001b[0;34m\u001b[0m\u001b[0m\n\u001b[1;32m    291\u001b[0m     \u001b[0;34m@\u001b[0m\u001b[0mclassmethod\u001b[0m\u001b[0;34m\u001b[0m\u001b[0;34m\u001b[0m\u001b[0m\n",
      "\u001b[0;32m~/opt/anaconda3/envs/nfs_env/lib/python3.7/site-packages/cvxpy/problems/problem.py\u001b[0m in \u001b[0;36m_solve\u001b[0;34m(self, solver, warm_start, verbose, parallel, gp, qcp, **kwargs)\u001b[0m\n\u001b[1;32m    565\u001b[0m                     solver, warm_start, verbose, **kwargs)\n\u001b[1;32m    566\u001b[0m \u001b[0;34m\u001b[0m\u001b[0m\n\u001b[0;32m--> 567\u001b[0;31m         \u001b[0mself\u001b[0m\u001b[0;34m.\u001b[0m\u001b[0m_construct_chains\u001b[0m\u001b[0;34m(\u001b[0m\u001b[0msolver\u001b[0m\u001b[0;34m=\u001b[0m\u001b[0msolver\u001b[0m\u001b[0;34m,\u001b[0m \u001b[0mgp\u001b[0m\u001b[0;34m=\u001b[0m\u001b[0mgp\u001b[0m\u001b[0;34m)\u001b[0m\u001b[0;34m\u001b[0m\u001b[0;34m\u001b[0m\u001b[0m\n\u001b[0m\u001b[1;32m    568\u001b[0m         data, solving_inverse_data = self._solving_chain.apply(\n\u001b[1;32m    569\u001b[0m             self._intermediate_problem)\n",
      "\u001b[0;32m~/opt/anaconda3/envs/nfs_env/lib/python3.7/site-packages/cvxpy/problems/problem.py\u001b[0m in \u001b[0;36m_construct_chains\u001b[0;34m(self, solver, gp)\u001b[0m\n\u001b[1;32m    508\u001b[0m \u001b[0;34m\u001b[0m\u001b[0m\n\u001b[1;32m    509\u001b[0m             \u001b[0;32mexcept\u001b[0m \u001b[0mException\u001b[0m \u001b[0;32mas\u001b[0m \u001b[0me\u001b[0m\u001b[0;34m:\u001b[0m\u001b[0;34m\u001b[0m\u001b[0;34m\u001b[0m\u001b[0m\n\u001b[0;32m--> 510\u001b[0;31m                 \u001b[0;32mraise\u001b[0m \u001b[0me\u001b[0m\u001b[0;34m\u001b[0m\u001b[0;34m\u001b[0m\u001b[0m\n\u001b[0m\u001b[1;32m    511\u001b[0m \u001b[0;34m\u001b[0m\u001b[0m\n\u001b[1;32m    512\u001b[0m     def _solve(self,\n",
      "\u001b[0;32m~/opt/anaconda3/envs/nfs_env/lib/python3.7/site-packages/cvxpy/problems/problem.py\u001b[0m in \u001b[0;36m_construct_chains\u001b[0;34m(self, solver, gp)\u001b[0m\n\u001b[1;32m    497\u001b[0m \u001b[0;34m\u001b[0m\u001b[0m\n\u001b[1;32m    498\u001b[0m                 \u001b[0mself\u001b[0m\u001b[0;34m.\u001b[0m\u001b[0m_intermediate_chain\u001b[0m \u001b[0;34m=\u001b[0m\u001b[0;31m \u001b[0m\u001b[0;31m\\\u001b[0m\u001b[0;34m\u001b[0m\u001b[0;34m\u001b[0m\u001b[0m\n\u001b[0;32m--> 499\u001b[0;31m                     \u001b[0mconstruct_intermediate_chain\u001b[0m\u001b[0;34m(\u001b[0m\u001b[0mself\u001b[0m\u001b[0;34m,\u001b[0m \u001b[0mcandidate_solvers\u001b[0m\u001b[0;34m,\u001b[0m \u001b[0mgp\u001b[0m\u001b[0;34m=\u001b[0m\u001b[0mgp\u001b[0m\u001b[0;34m)\u001b[0m\u001b[0;34m\u001b[0m\u001b[0;34m\u001b[0m\u001b[0m\n\u001b[0m\u001b[1;32m    500\u001b[0m                 \u001b[0mself\u001b[0m\u001b[0;34m.\u001b[0m\u001b[0m_intermediate_problem\u001b[0m\u001b[0;34m,\u001b[0m \u001b[0mself\u001b[0m\u001b[0;34m.\u001b[0m\u001b[0m_intermediate_inverse_data\u001b[0m \u001b[0;34m=\u001b[0m\u001b[0;31m \u001b[0m\u001b[0;31m\\\u001b[0m\u001b[0;34m\u001b[0m\u001b[0;34m\u001b[0m\u001b[0m\n\u001b[1;32m    501\u001b[0m                     \u001b[0mself\u001b[0m\u001b[0;34m.\u001b[0m\u001b[0m_intermediate_chain\u001b[0m\u001b[0;34m.\u001b[0m\u001b[0mapply\u001b[0m\u001b[0;34m(\u001b[0m\u001b[0mself\u001b[0m\u001b[0;34m)\u001b[0m\u001b[0;34m\u001b[0m\u001b[0;34m\u001b[0m\u001b[0m\n",
      "\u001b[0;32m~/opt/anaconda3/envs/nfs_env/lib/python3.7/site-packages/cvxpy/reductions/solvers/intermediate_chain.py\u001b[0m in \u001b[0;36mconstruct_intermediate_chain\u001b[0;34m(problem, candidates, gp)\u001b[0m\n\u001b[1;32m     68\u001b[0m             append += (\"\\nHowever, the problem does follow DQCP rules. \"\n\u001b[1;32m     69\u001b[0m                        \"Consider calling solve() with `qcp=True`.\")\n\u001b[0;32m---> 70\u001b[0;31m         \u001b[0;32mraise\u001b[0m \u001b[0mDCPError\u001b[0m\u001b[0;34m(\u001b[0m\u001b[0;34m\"Problem does not follow DCP rules. Specifically:\\n\"\u001b[0m \u001b[0;34m+\u001b[0m \u001b[0mappend\u001b[0m\u001b[0;34m)\u001b[0m\u001b[0;34m\u001b[0m\u001b[0;34m\u001b[0m\u001b[0m\n\u001b[0m\u001b[1;32m     71\u001b[0m \u001b[0;34m\u001b[0m\u001b[0m\n\u001b[1;32m     72\u001b[0m     \u001b[0;32melif\u001b[0m \u001b[0mgp\u001b[0m \u001b[0;32mand\u001b[0m \u001b[0;32mnot\u001b[0m \u001b[0mproblem\u001b[0m\u001b[0;34m.\u001b[0m\u001b[0mis_dgp\u001b[0m\u001b[0;34m(\u001b[0m\u001b[0;34m)\u001b[0m\u001b[0;34m:\u001b[0m\u001b[0;34m\u001b[0m\u001b[0;34m\u001b[0m\u001b[0m\n",
      "\u001b[0;31mDCPError\u001b[0m: Problem does not follow DCP rules. Specifically:\nThe objective is not DCP. Its following subexpressions are not:\n[[-0.29915037]\n [-3.88090367]\n [ 2.21373123]\n [ 1.91348189]\n [ 1.71221572]\n [-0.34340797]\n [-2.16399919]\n [ 1.19601845]\n [ 0.38424361]\n [ 0.94441981]\n [ 0.38662849]\n [ 1.64405136]\n [-2.35750371]\n [ 0.85223018]\n [-0.8813186 ]\n [-3.11178457]\n [ 2.34438367]\n [ 2.66965757]\n [-0.83027786]\n [-0.07548711]\n [-0.97654628]\n [ 2.01732266]\n [-4.32094321]\n [ 0.12198457]\n [ 1.5034777 ]\n [ 1.4699799 ]\n [-2.09012213]\n [-1.07340079]\n [ 0.83851692]\n [ 0.39560752]\n [ 2.80485942]\n [-1.63495372]\n [ 4.10657855]\n [-2.02143501]\n [ 4.71456365]\n [ 0.78319156]\n [-0.72605406]\n [-0.45402683]\n [-3.99127321]\n [-0.90769092]\n [ 0.92540298]\n [ 1.32844285]\n [-1.73518033]\n [ 2.29269536]\n [-1.61345056]\n [ 0.3926185 ]\n [ 2.73133287]\n [ 0.1425875 ]\n [ 3.29551527]\n [-1.86458579]\n [-1.33757215]\n [ 1.21742339]\n [ 2.06991996]\n [ 1.86518299]\n [-0.61606043]\n [-2.04913978]\n [ 1.85184179]\n [ 1.69480115]\n [-3.19647627]\n [ 1.76825296]\n [-0.06980137]\n [ 2.62347867]\n [ 1.39616799]\n [-4.00433153]\n [ 2.74778029]\n [-2.02849984]\n [ 2.44622651]\n [-1.75086303]\n [ 0.48720284]\n [ 1.77268097]\n [ 2.78888863]\n [-0.30880558]\n [-1.86559788]\n [ 2.29071982]\n [-0.92588954]\n [-0.8113622 ]\n [-2.7371287 ]\n [-0.79650234]\n [-1.57241516]\n [-2.43740765]\n [ 3.82346203]\n [-2.16705678]\n [ 4.8969447 ]\n [ 0.86174864]\n [-3.53585172]\n [-1.2084533 ]\n [ 0.73481681]\n [ 1.10305569]\n [ 3.98994054]\n [-2.01651812]\n [ 0.37825405]\n [-1.69559279]\n [ 1.82040655]\n [-1.61812817]\n [ 0.08310035]\n [-2.07356335]\n [ 0.52988968]\n [ 1.88253079]\n [-2.09126317]\n [ 1.67889014]] * (0.1 * max(norm1(var975), None, False) + -[[ 0.20603968]\n [ 2.01892835]\n [-1.11130681]\n [-1.00710757]\n [-0.85139398]\n [ 0.16472667]\n [ 1.10318597]\n [-0.62458127]\n [-0.13081594]\n [-0.61827081]\n [-0.23474798]\n [-0.91553023]\n [ 1.2826022 ]\n [-0.43612095]\n [ 0.44927125]\n [ 1.6248419 ]\n [-1.27454666]\n [-1.37130946]\n [ 0.42323111]\n [ 0.04303981]\n [ 0.56570885]\n [-1.10779488]\n [ 2.23547534]\n [-0.02753405]\n [-0.73276236]\n [-0.72145065]\n [ 1.10739202]\n [ 0.61594692]\n [-0.45806213]\n [-0.12521539]\n [-1.50437771]\n [ 0.9316808 ]\n [-2.22755829]\n [ 1.09409874]\n [-2.47159045]\n [-0.45584438]\n [ 0.34310501]\n [ 0.34348118]\n [ 2.04670413]\n [ 0.40334141]\n [-0.45555482]\n [-0.66446964]\n [ 0.88666044]\n [-1.2244264 ]\n [ 0.76380164]\n [-0.23926575]\n [-1.41955496]\n [-0.04828039]\n [-1.7607628 ]\n [ 0.87643474]\n [ 0.71853816]\n [-0.58541504]\n [-1.06838396]\n [-1.04446132]\n [ 0.21599517]\n [ 0.95346135]\n [-0.98519728]\n [-0.88075558]\n [ 1.62281362]\n [-0.94962861]\n [ 0.04056106]\n [-1.35965292]\n [-0.79907362]\n [ 2.17638096]\n [-1.5176625 ]\n [ 1.05645584]\n [-1.35439805]\n [ 1.0029065 ]\n [-0.1590541 ]\n [-0.9190567 ]\n [-1.51212241]\n [ 0.13394375]\n [ 0.95617007]\n [-1.12557792]\n [ 0.44319797]\n [ 0.31675511]\n [ 1.4048846 ]\n [ 0.41809488]\n [ 0.8835787 ]\n [ 1.26839713]\n [-2.08634676]\n [ 1.13335825]\n [-2.61183518]\n [-0.49718427]\n [ 1.78326157]\n [ 0.61088537]\n [-0.35751906]\n [-0.514878  ]\n [-2.04134801]\n [ 1.07116191]\n [-0.22383691]\n [ 0.91320931]\n [-0.87376021]\n [ 0.87176283]\n [-0.06535133]\n [ 1.11495375]\n [-0.3611592 ]\n [-0.97643284]\n [ 1.12676017]\n [-0.81535156]] * var975 + -var976)"
     ]
    }
   ],
   "source": [
    "loss, beta, b = solve_robust(X,y,lamb)\n",
    "print(loss,beta)"
   ]
  },
  {
   "cell_type": "code",
   "execution_count": null,
   "metadata": {},
   "outputs": [],
   "source": []
  }
 ],
 "metadata": {
  "kernelspec": {
   "display_name": "Python 3",
   "language": "python",
   "name": "python3"
  },
  "language_info": {
   "codemirror_mode": {
    "name": "ipython",
    "version": 3
   },
   "file_extension": ".py",
   "mimetype": "text/x-python",
   "name": "python",
   "nbconvert_exporter": "python",
   "pygments_lexer": "ipython3",
   "version": "3.7.4"
  }
 },
 "nbformat": 4,
 "nbformat_minor": 4
}
