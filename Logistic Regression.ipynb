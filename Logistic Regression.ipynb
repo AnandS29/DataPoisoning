{
 "cells": [
  {
   "cell_type": "code",
   "execution_count": 2,
   "metadata": {},
   "outputs": [],
   "source": [
    "import numpy as np\n",
    "import cvxpy as cp\n",
    "import pandas as pd\n",
    "import matplotlib.pyplot as plt\n",
    "\n",
    "from data_generation import *"
   ]
  },
  {
   "cell_type": "markdown",
   "metadata": {},
   "source": [
    "## Create dataset"
   ]
  },
  {
   "cell_type": "code",
   "execution_count": 18,
   "metadata": {},
   "outputs": [],
   "source": [
    "n = 100 # number of data points\n",
    "m = 1 # number of features\n",
    "sigma = 0.1\n",
    "lamb = 2\n",
    "rho = 1\n",
    "X, y, w = gen_synthetic_normal(n,m,sigma)"
   ]
  },
  {
   "cell_type": "code",
   "execution_count": 19,
   "metadata": {},
   "outputs": [],
   "source": [
    "l = lambda X: np.linalg.norm(X@np.linalg.pinv(X)@y-y)**2"
   ]
  },
  {
   "cell_type": "code",
   "execution_count": 20,
   "metadata": {},
   "outputs": [
    {
     "name": "stdout",
     "output_type": "stream",
     "text": [
      "Shape of X:  (100, 1)\n",
      "Shape of y:  (100, 1)\n",
      "Shape of w:  (1, 1)\n"
     ]
    }
   ],
   "source": [
    "print(\"Shape of X: \", X.shape)\n",
    "print(\"Shape of y: \", y.shape)\n",
    "print(\"Shape of w: \", w.shape)"
   ]
  },
  {
   "cell_type": "markdown",
   "metadata": {},
   "source": [
    "## Nominal Problem"
   ]
  },
  {
   "cell_type": "code",
   "execution_count": 21,
   "metadata": {},
   "outputs": [],
   "source": [
    "def solve_nominal(X, y, lamb=1):\n",
    "    beta = cp.Variable((m,1))\n",
    "    log_likelihood = cp.sum(\n",
    "        cp.multiply(y, X @ beta) - cp.logistic(X @ beta)\n",
    "    )\n",
    "    prob = cp.Problem(cp.Maximize(log_likelihood/n - lamb * cp.norm(beta, 2)))\n",
    "    prob.solve()\n",
    "    return prob.value, beta.value"
   ]
  },
  {
   "cell_type": "code",
   "execution_count": 22,
   "metadata": {},
   "outputs": [
    {
     "name": "stdout",
     "output_type": "stream",
     "text": [
      "-0.6025550647646747 [[-0.87384067]]\n"
     ]
    }
   ],
   "source": [
    "loss, beta = solve_nominal(X,y,lamb)\n",
    "print(loss,beta)"
   ]
  },
  {
   "cell_type": "markdown",
   "metadata": {},
   "source": [
    "## Robust Problem"
   ]
  },
  {
   "cell_type": "code",
   "execution_count": null,
   "metadata": {},
   "outputs": [],
   "source": []
  }
 ],
 "metadata": {
  "kernelspec": {
   "display_name": "Python 3",
   "language": "python",
   "name": "python3"
  },
  "language_info": {
   "codemirror_mode": {
    "name": "ipython",
    "version": 3
   },
   "file_extension": ".py",
   "mimetype": "text/x-python",
   "name": "python",
   "nbconvert_exporter": "python",
   "pygments_lexer": "ipython3",
   "version": "3.7.4"
  }
 },
 "nbformat": 4,
 "nbformat_minor": 4
}
